{
 "cells": [
  {
   "cell_type": "markdown",
   "metadata": {},
   "source": [
    "# Merge Two Relational Data Tables"
   ]
  },
  {
   "cell_type": "markdown",
   "metadata": {},
   "source": [
    "This Project downloads 2 CSV files from https://www.goodreads.com/ and merge these Realtional Data into one Single Data Frame  "
   ]
  },
  {
   "cell_type": "markdown",
   "metadata": {},
   "source": [
    "Importing necessary libraries"
   ]
  },
  {
   "cell_type": "code",
   "execution_count": 4,
   "metadata": {
    "collapsed": true
   },
   "outputs": [],
   "source": [
    "import pandas as pd"
   ]
  },
  {
   "cell_type": "markdown",
   "metadata": {},
   "source": [
    "Creating a two Data Frames one for authors.csv file and othe for BookContents.csv file"
   ]
  },
  {
   "cell_type": "code",
   "execution_count": 5,
   "metadata": {
    "collapsed": true
   },
   "outputs": [],
   "source": [
    "authors_df = pd.read_csv(\"authors.csv\", keep_default_na=False, na_values=[\"\"])\n",
    "books_df = pd.read_csv(\"BookContents.csv\", keep_default_na=False, na_values=[\"\"])"
   ]
  },
  {
   "cell_type": "code",
   "execution_count": 6,
   "metadata": {},
   "outputs": [
    {
     "name": "stdout",
     "output_type": "stream",
     "text": [
      "                                               Genres          Birth Date  \\\n",
      "0                              Fiction, Short Stories  September 24, 1896   \n",
      "1                                    Children's Books       June 18, 1949   \n",
      "2                                 History, Nonfiction  September 09, 1943   \n",
      "3                                Literature & Fiction   February 07, 1812   \n",
      "4                                    Children's Books      April 19, 1940   \n",
      "5             Literature & Fiction, Nonfiction, Humor    January 28, 1935   \n",
      "6                     Fiction, Philosophy, Nonfiction  September 09, 1828   \n",
      "7                                              Horror   November 08, 1847   \n",
      "8                         Adventure, Romance, Fiction       July 24, 1802   \n",
      "9   Literature & Fiction, Young Adult, Children's ...        May 27, 1990   \n",
      "10  Literature & Fiction, Short Stories, Biographi...   November 30, 1835   \n",
      "11                                   Fiction, Romance   December 16, 1775   \n",
      "12                                                NaN                 NaN   \n",
      "13                                    Fiction, Poetry       July 30, 1818   \n",
      "14                               Literature & Fiction      April 21, 1816   \n",
      "15                      Literature & Fiction, Theatre       June 28, 1867   \n",
      "16                                                NaN                 NaN   \n",
      "17                       Fantasy, Fiction, Children's    January 03, 1892   \n",
      "\n",
      "            Death Date               Author  \n",
      "0    December 21, 1940  F. Scott Fitzgerald  \n",
      "1                  NaN   Chris Van Allsburg  \n",
      "2                  NaN          Tom Shippey  \n",
      "3        June 09, 1870      Charles Dickens  \n",
      "4                  NaN              Ron Roy  \n",
      "5                  NaN          David Lodge  \n",
      "6    November 20, 1910          Leo Tolstoy  \n",
      "7       April 20, 1912          Bram Stoker  \n",
      "8    December 05, 1870      Alexandre Dumas  \n",
      "9                  NaN         Chris Colfer  \n",
      "10      April 21, 1910           Mark Twain  \n",
      "11       July 18, 1817          Jane Austen  \n",
      "12                 NaN           E.K. Blair  \n",
      "13   December 19, 1848         Emily Brontë  \n",
      "14      March 31, 1855     Charlotte Brontë  \n",
      "15   December 10, 1936     Luigi Pirandello  \n",
      "16                 NaN          Neil Gaiman  \n",
      "17  September 02, 1973       J.R.R. Tolkien  \n"
     ]
    }
   ],
   "source": [
    "print authors_df"
   ]
  },
  {
   "cell_type": "code",
   "execution_count": 7,
   "metadata": {},
   "outputs": [
    {
     "name": "stdout",
     "output_type": "stream",
     "text": [
      "              Ratings                                               Book  \\\n",
      "0   2,870,458 ratings       The Great Gatsby Author: F. Scott Fitzgerald   \n",
      "1   2,244,822 ratings  The Hobbit or There and Back Again. Illustrate...   \n",
      "2      10,879 ratings              Six Characters in Search of an Author   \n",
      "3   1,300,983 ratings  Jane Eyre - Classis Version (Annotated, Quotes...   \n",
      "4   1,027,726 ratings  Wuthering Heights - Classic Version (Annotated...   \n",
      "5       8,377 ratings      An Author's Odyssey (The Land of Stories, #5)   \n",
      "6   1,021,447 ratings  The Adventures of Huckleberry Finn: annotated ...   \n",
      "7     787,560 ratings  SENSE AND SENSIBILITY by Jane Austen author of...   \n",
      "8     715,771 ratings                                            Dracula   \n",
      "9     614,006 ratings  The Count of Monte Cristo : Classics Book (Wit...   \n",
      "10    487,006 ratings  Anna Karenina (Annotated) with Detailed Biogra...   \n",
      "11      5,045 ratings              J.R.R. Tolkien: Author of the Century   \n",
      "12    520,256 ratings  GREAT EXPECTATIONS by Charles Dickens author o...   \n",
      "13    511,959 ratings  EMMA by Jane Austen author of Sense and Sensib...   \n",
      "14    607,273 ratings  The Adventures of Tom Sawyer - Complete Versio...   \n",
      "15      1,908 ratings                                   Author Anonymous   \n",
      "16        722 ratings                                     Author, Author   \n",
      "17    313,945 ratings        Neverwhere Ltd: The Author's Preferred Text   \n",
      "18     14,860 ratings  The Chronicles of Harris Burdick: 14 Amazing A...   \n",
      "19      6,364 ratings           The Absent Author (A to Z Mysteries, #1)   \n",
      "\n",
      "         Avg Rating               Author  \n",
      "0   3.89 avg rating  F. Scott Fitzgerald  \n",
      "1   4.25 avg rating       J.R.R. Tolkien  \n",
      "2   3.83 avg rating     Luigi Pirandello  \n",
      "3   4.10 avg rating     Charlotte Brontë  \n",
      "4   3.83 avg rating         Emily Brontë  \n",
      "5   4.47 avg rating         Chris Colfer  \n",
      "6   3.80 avg rating           Mark Twain  \n",
      "7   4.06 avg rating          Jane Austen  \n",
      "8   3.98 avg rating          Bram Stoker  \n",
      "9   4.22 avg rating      Alexandre Dumas  \n",
      "10  4.02 avg rating          Leo Tolstoy  \n",
      "11  3.79 avg rating          Tom Shippey  \n",
      "12  3.75 avg rating      Charles Dickens  \n",
      "13  3.99 avg rating          Jane Austen  \n",
      "14  3.90 avg rating           Mark Twain  \n",
      "15  4.18 avg rating           E.K. Blair  \n",
      "16  3.59 avg rating          David Lodge  \n",
      "17  4.18 avg rating          Neil Gaiman  \n",
      "18  3.91 avg rating   Chris Van Allsburg  \n",
      "19  3.94 avg rating              Ron Roy  \n"
     ]
    }
   ],
   "source": [
    "print books_df"
   ]
  },
  {
   "cell_type": "code",
   "execution_count": 8,
   "metadata": {
    "collapsed": true
   },
   "outputs": [],
   "source": [
    "merge_df = pd.merge(left=authors_df, right=books_df, how='left', left_on='Author', right_on='Author')"
   ]
  },
  {
   "cell_type": "code",
   "execution_count": 9,
   "metadata": {},
   "outputs": [
    {
     "name": "stdout",
     "output_type": "stream",
     "text": [
      "                                               Genres          Birth Date  \\\n",
      "0                              Fiction, Short Stories  September 24, 1896   \n",
      "1                                    Children's Books       June 18, 1949   \n",
      "2                                 History, Nonfiction  September 09, 1943   \n",
      "3                                Literature & Fiction   February 07, 1812   \n",
      "4                                    Children's Books      April 19, 1940   \n",
      "5             Literature & Fiction, Nonfiction, Humor    January 28, 1935   \n",
      "6                     Fiction, Philosophy, Nonfiction  September 09, 1828   \n",
      "7                                              Horror   November 08, 1847   \n",
      "8                         Adventure, Romance, Fiction       July 24, 1802   \n",
      "9   Literature & Fiction, Young Adult, Children's ...        May 27, 1990   \n",
      "10  Literature & Fiction, Short Stories, Biographi...   November 30, 1835   \n",
      "11  Literature & Fiction, Short Stories, Biographi...   November 30, 1835   \n",
      "12                                   Fiction, Romance   December 16, 1775   \n",
      "13                                   Fiction, Romance   December 16, 1775   \n",
      "14                                                NaN                 NaN   \n",
      "15                                    Fiction, Poetry       July 30, 1818   \n",
      "16                               Literature & Fiction      April 21, 1816   \n",
      "17                      Literature & Fiction, Theatre       June 28, 1867   \n",
      "18                                                NaN                 NaN   \n",
      "19                       Fantasy, Fiction, Children's    January 03, 1892   \n",
      "\n",
      "            Death Date               Author            Ratings  \\\n",
      "0    December 21, 1940  F. Scott Fitzgerald  2,870,458 ratings   \n",
      "1                  NaN   Chris Van Allsburg     14,860 ratings   \n",
      "2                  NaN          Tom Shippey      5,045 ratings   \n",
      "3        June 09, 1870      Charles Dickens    520,256 ratings   \n",
      "4                  NaN              Ron Roy      6,364 ratings   \n",
      "5                  NaN          David Lodge        722 ratings   \n",
      "6    November 20, 1910          Leo Tolstoy    487,006 ratings   \n",
      "7       April 20, 1912          Bram Stoker    715,771 ratings   \n",
      "8    December 05, 1870      Alexandre Dumas    614,006 ratings   \n",
      "9                  NaN         Chris Colfer      8,377 ratings   \n",
      "10      April 21, 1910           Mark Twain  1,021,447 ratings   \n",
      "11      April 21, 1910           Mark Twain    607,273 ratings   \n",
      "12       July 18, 1817          Jane Austen    787,560 ratings   \n",
      "13       July 18, 1817          Jane Austen    511,959 ratings   \n",
      "14                 NaN           E.K. Blair      1,908 ratings   \n",
      "15   December 19, 1848         Emily Brontë  1,027,726 ratings   \n",
      "16      March 31, 1855     Charlotte Brontë  1,300,983 ratings   \n",
      "17   December 10, 1936     Luigi Pirandello     10,879 ratings   \n",
      "18                 NaN          Neil Gaiman    313,945 ratings   \n",
      "19  September 02, 1973       J.R.R. Tolkien  2,244,822 ratings   \n",
      "\n",
      "                                                 Book       Avg Rating  \n",
      "0        The Great Gatsby Author: F. Scott Fitzgerald  3.89 avg rating  \n",
      "1   The Chronicles of Harris Burdick: 14 Amazing A...  3.91 avg rating  \n",
      "2               J.R.R. Tolkien: Author of the Century  3.79 avg rating  \n",
      "3   GREAT EXPECTATIONS by Charles Dickens author o...  3.75 avg rating  \n",
      "4            The Absent Author (A to Z Mysteries, #1)  3.94 avg rating  \n",
      "5                                      Author, Author  3.59 avg rating  \n",
      "6   Anna Karenina (Annotated) with Detailed Biogra...  4.02 avg rating  \n",
      "7                                             Dracula  3.98 avg rating  \n",
      "8   The Count of Monte Cristo : Classics Book (Wit...  4.22 avg rating  \n",
      "9       An Author's Odyssey (The Land of Stories, #5)  4.47 avg rating  \n",
      "10  The Adventures of Huckleberry Finn: annotated ...  3.80 avg rating  \n",
      "11  The Adventures of Tom Sawyer - Complete Versio...  3.90 avg rating  \n",
      "12  SENSE AND SENSIBILITY by Jane Austen author of...  4.06 avg rating  \n",
      "13  EMMA by Jane Austen author of Sense and Sensib...  3.99 avg rating  \n",
      "14                                   Author Anonymous  4.18 avg rating  \n",
      "15  Wuthering Heights - Classic Version (Annotated...  3.83 avg rating  \n",
      "16  Jane Eyre - Classis Version (Annotated, Quotes...  4.10 avg rating  \n",
      "17              Six Characters in Search of an Author  3.83 avg rating  \n",
      "18        Neverwhere Ltd: The Author's Preferred Text  4.18 avg rating  \n",
      "19  The Hobbit or There and Back Again. Illustrate...  4.25 avg rating  \n"
     ]
    }
   ],
   "source": [
    "print merge_df"
   ]
  },
  {
   "cell_type": "code",
   "execution_count": 13,
   "metadata": {},
   "outputs": [
    {
     "name": "stdout",
     "output_type": "stream",
     "text": [
      "<class 'pandas.core.series.Series'>\n"
     ]
    }
   ],
   "source": [
    "print type(merge_df['Author'])"
   ]
  },
  {
   "cell_type": "code",
   "execution_count": 1,
   "metadata": {
    "collapsed": true
   },
   "outputs": [],
   "source": [
    "from bokeh.io import show, output_file\n",
    "from bokeh.models import ColumnDataSource\n",
    "from bokeh.palettes import Spectral6\n",
    "from bokeh.plotting import figure\n",
    "from bokeh.transform import factor_cmap"
   ]
  },
  {
   "cell_type": "code",
   "execution_count": 17,
   "metadata": {},
   "outputs": [
    {
     "ename": "ValueError",
     "evalue": "Unrecognized range input: '0     F. Scott Fitzgerald\n1      Chris Van Allsburg\n2             Tom Shippey\n3         Charles Dickens\n4                 Ron Roy\n5             David Lodge\n6             Leo Tolstoy\n7             Bram Stoker\n8         Alexandre Dumas\n9            Chris Colfer\n10             Mark Twain\n11             Mark Twain\n12            Jane Austen\n13            Jane Austen\n14             E.K. Blair\n15           Emily Brontë\n16       Charlotte Brontë\n17       Luigi Pirandello\n18            Neil Gaiman\n19         J.R.R. Tolkien\nName: Author, dtype: object'",
     "output_type": "error",
     "traceback": [
      "\u001b[0;31m---------------------------------------------------------------------------\u001b[0m",
      "\u001b[0;31mValueError\u001b[0m                                Traceback (most recent call last)",
      "\u001b[0;32m<ipython-input-17-da496a071af9>\u001b[0m in \u001b[0;36m<module>\u001b[0;34m()\u001b[0m\n\u001b[1;32m      8\u001b[0m \u001b[0msource\u001b[0m \u001b[0;34m=\u001b[0m \u001b[0mColumnDataSource\u001b[0m\u001b[0;34m(\u001b[0m\u001b[0mdata\u001b[0m\u001b[0;34m=\u001b[0m\u001b[0mdict\u001b[0m\u001b[0;34m(\u001b[0m\u001b[0mauthors\u001b[0m\u001b[0;34m=\u001b[0m\u001b[0mauthors\u001b[0m\u001b[0;34m,\u001b[0m \u001b[0mRatings\u001b[0m\u001b[0;34m=\u001b[0m\u001b[0mratings\u001b[0m\u001b[0;34m)\u001b[0m\u001b[0;34m)\u001b[0m\u001b[0;34m\u001b[0m\u001b[0m\n\u001b[1;32m      9\u001b[0m \u001b[0;34m\u001b[0m\u001b[0m\n\u001b[0;32m---> 10\u001b[0;31m \u001b[0mp\u001b[0m \u001b[0;34m=\u001b[0m \u001b[0mfigure\u001b[0m\u001b[0;34m(\u001b[0m\u001b[0mx_range\u001b[0m\u001b[0;34m=\u001b[0m\u001b[0mauthors\u001b[0m\u001b[0;34m,\u001b[0m \u001b[0mplot_height\u001b[0m\u001b[0;34m=\u001b[0m\u001b[0;36m3000000\u001b[0m\u001b[0;34m,\u001b[0m \u001b[0mtoolbar_location\u001b[0m\u001b[0;34m=\u001b[0m\u001b[0mNone\u001b[0m\u001b[0;34m,\u001b[0m \u001b[0mtitle\u001b[0m\u001b[0;34m=\u001b[0m\u001b[0;34m\"Authors Vs. Ratings\"\u001b[0m\u001b[0;34m)\u001b[0m\u001b[0;34m\u001b[0m\u001b[0m\n\u001b[0m\u001b[1;32m     11\u001b[0m \u001b[0;31m# p.vbar(x='fruits', top='counts', width=0.9, source=source, legend=\"fruits\",\u001b[0m\u001b[0;34m\u001b[0m\u001b[0;34m\u001b[0m\u001b[0m\n\u001b[1;32m     12\u001b[0m \u001b[0;31m#        line_color='white', fill_color=factor_cmap('fruits', palette=Spectral6, factors=fruits))\u001b[0m\u001b[0;34m\u001b[0m\u001b[0;34m\u001b[0m\u001b[0m\n",
      "\u001b[0;32m/home/bala/anaconda2/lib/python2.7/site-packages/bokeh/plotting/figure.pyc\u001b[0m in \u001b[0;36mfigure\u001b[0;34m(**kwargs)\u001b[0m\n\u001b[1;32m    775\u001b[0m     '''\n\u001b[1;32m    776\u001b[0m \u001b[0;34m\u001b[0m\u001b[0m\n\u001b[0;32m--> 777\u001b[0;31m     \u001b[0;32mreturn\u001b[0m \u001b[0mFigure\u001b[0m\u001b[0;34m(\u001b[0m\u001b[0;34m**\u001b[0m\u001b[0mkwargs\u001b[0m\u001b[0;34m)\u001b[0m\u001b[0;34m\u001b[0m\u001b[0m\n\u001b[0m\u001b[1;32m    778\u001b[0m \u001b[0;34m\u001b[0m\u001b[0m\n\u001b[1;32m    779\u001b[0m \u001b[0;34m\u001b[0m\u001b[0m\n",
      "\u001b[0;32m/home/bala/anaconda2/lib/python2.7/site-packages/bokeh/plotting/figure.pyc\u001b[0m in \u001b[0;36m__init__\u001b[0;34m(self, *arg, **kw)\u001b[0m\n\u001b[1;32m    138\u001b[0m         \u001b[0msuper\u001b[0m\u001b[0;34m(\u001b[0m\u001b[0mFigure\u001b[0m\u001b[0;34m,\u001b[0m \u001b[0mself\u001b[0m\u001b[0;34m)\u001b[0m\u001b[0;34m.\u001b[0m\u001b[0m__init__\u001b[0m\u001b[0;34m(\u001b[0m\u001b[0;34m*\u001b[0m\u001b[0marg\u001b[0m\u001b[0;34m,\u001b[0m \u001b[0;34m**\u001b[0m\u001b[0mkw\u001b[0m\u001b[0;34m)\u001b[0m\u001b[0;34m\u001b[0m\u001b[0m\n\u001b[1;32m    139\u001b[0m \u001b[0;34m\u001b[0m\u001b[0m\n\u001b[0;32m--> 140\u001b[0;31m         \u001b[0mself\u001b[0m\u001b[0;34m.\u001b[0m\u001b[0mx_range\u001b[0m \u001b[0;34m=\u001b[0m \u001b[0m_get_range\u001b[0m\u001b[0;34m(\u001b[0m\u001b[0mopts\u001b[0m\u001b[0;34m.\u001b[0m\u001b[0mx_range\u001b[0m\u001b[0;34m)\u001b[0m\u001b[0;34m\u001b[0m\u001b[0m\n\u001b[0m\u001b[1;32m    141\u001b[0m         \u001b[0mself\u001b[0m\u001b[0;34m.\u001b[0m\u001b[0my_range\u001b[0m \u001b[0;34m=\u001b[0m \u001b[0m_get_range\u001b[0m\u001b[0;34m(\u001b[0m\u001b[0mopts\u001b[0m\u001b[0;34m.\u001b[0m\u001b[0my_range\u001b[0m\u001b[0;34m)\u001b[0m\u001b[0;34m\u001b[0m\u001b[0m\n\u001b[1;32m    142\u001b[0m \u001b[0;34m\u001b[0m\u001b[0m\n",
      "\u001b[0;32m/home/bala/anaconda2/lib/python2.7/site-packages/bokeh/plotting/helpers.pyc\u001b[0m in \u001b[0;36m_get_range\u001b[0;34m(range_input)\u001b[0m\n\u001b[1;32m    353\u001b[0m             \u001b[0;32mexcept\u001b[0m \u001b[0mValueError\u001b[0m\u001b[0;34m:\u001b[0m  \u001b[0;31m# @mattpap suggests ValidationError instead\u001b[0m\u001b[0;34m\u001b[0m\u001b[0m\n\u001b[1;32m    354\u001b[0m                 \u001b[0;32mpass\u001b[0m\u001b[0;34m\u001b[0m\u001b[0m\n\u001b[0;32m--> 355\u001b[0;31m     \u001b[0;32mraise\u001b[0m \u001b[0mValueError\u001b[0m\u001b[0;34m(\u001b[0m\u001b[0;34m\"Unrecognized range input: '%s'\"\u001b[0m \u001b[0;34m%\u001b[0m \u001b[0mstr\u001b[0m\u001b[0;34m(\u001b[0m\u001b[0mrange_input\u001b[0m\u001b[0;34m)\u001b[0m\u001b[0;34m)\u001b[0m\u001b[0;34m\u001b[0m\u001b[0m\n\u001b[0m\u001b[1;32m    356\u001b[0m \u001b[0;34m\u001b[0m\u001b[0m\n\u001b[1;32m    357\u001b[0m \u001b[0;34m\u001b[0m\u001b[0m\n",
      "\u001b[0;31mValueError\u001b[0m: Unrecognized range input: '0     F. Scott Fitzgerald\n1      Chris Van Allsburg\n2             Tom Shippey\n3         Charles Dickens\n4                 Ron Roy\n5             David Lodge\n6             Leo Tolstoy\n7             Bram Stoker\n8         Alexandre Dumas\n9            Chris Colfer\n10             Mark Twain\n11             Mark Twain\n12            Jane Austen\n13            Jane Austen\n14             E.K. Blair\n15           Emily Brontë\n16       Charlotte Brontë\n17       Luigi Pirandello\n18            Neil Gaiman\n19         J.R.R. Tolkien\nName: Author, dtype: object'"
     ]
    }
   ],
   "source": [
    "output_file(\"bar_colormapped.html\")\n",
    "\n",
    "# fruits = ['Apples', 'Pears', 'Nectarines', 'Plums', 'Grapes', 'Strawberries']\n",
    "# counts = [5, 3, 4, 2, 4, 6]\n",
    "authors = merge_df['Author']\n",
    "ratings = merge_df['Ratings']\n",
    "\n",
    "source = ColumnDataSource(data=dict(authors=authors, Ratings=ratings))\n",
    "\n",
    "p = figure(x_range=authors, plot_height=3000000, toolbar_location=None, title=\"Authors Vs. Ratings\")\n",
    "# p.vbar(x='fruits', top='counts', width=0.9, source=source, legend=\"fruits\",\n",
    "#        line_color='white', fill_color=factor_cmap('fruits', palette=Spectral6, factors=fruits))\n",
    "\n",
    "# p.xgrid.grid_line_color = None\n",
    "# p.y_range.start = 0\n",
    "# p.y_range.end = 9\n",
    "# p.legend.orientation = \"horizontal\"\n",
    "# p.legend.location = \"top_center\"\n",
    "\n",
    "# show(p)"
   ]
  },
  {
   "cell_type": "code",
   "execution_count": null,
   "metadata": {
    "collapsed": true
   },
   "outputs": [],
   "source": []
  }
 ],
 "metadata": {
  "kernelspec": {
   "display_name": "Python 2",
   "language": "python",
   "name": "python2"
  },
  "language_info": {
   "codemirror_mode": {
    "name": "ipython",
    "version": 2
   },
   "file_extension": ".py",
   "mimetype": "text/x-python",
   "name": "python",
   "nbconvert_exporter": "python",
   "pygments_lexer": "ipython2",
   "version": "2.7.14"
  }
 },
 "nbformat": 4,
 "nbformat_minor": 2
}
