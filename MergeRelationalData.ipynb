{
 "cells": [
  {
   "cell_type": "markdown",
   "metadata": {},
   "source": [
    "# Project 4 - THABALSDE004"
   ]
  },
  {
   "cell_type": "markdown",
   "metadata": {},
   "source": [
    "## Project Details\n",
    "This Project scrapes data from **Good Reads website**(https://www.goodreads.com/) and *downloads 2 CSV files* one containg the information of the Books and another one containing information about the Authors.\n",
    "\n",
    "I will be explaining in detail about Data Scraping, Merging of Relational Data and Plotting Graphs for Merged data. The below Jupyter notebook is split into 3 Parts:\n",
    "1. **Data Scrapping**\n",
    "2. **Merging Relational Data**\n",
    "3. **Plotting Graphs**"
   ]
  },
  {
   "cell_type": "markdown",
   "metadata": {},
   "source": [
    "## Section 1: Data Scrapping\n",
    "\n",
    "For the Scrapping of the website, I have used *Scrapy(Python Framework) and Python 2.7*. There are two scrapy files one for extracting Books Data and another one for extracting Authors Data."
   ]
  },
  {
   "cell_type": "code",
   "execution_count": null,
   "metadata": {
    "collapsed": true
   },
   "outputs": [],
   "source": [
    "import os\n",
    "\n",
    "# Removing the CSV files if previously present\n",
    "dir_name = \".\"\n",
    "reports = os.listdir(dir_name)\n",
    "for item in reports:\n",
    "    if item.endswith(\".csv\"):\n",
    "        os.remove(os.path.join(dir_name, item))"
   ]
  },
  {
   "cell_type": "markdown",
   "metadata": {},
   "source": [
    "### Scrapping Books Data\n",
    "#### Running CollectContents.py\n",
    "**This Python files scrapes the Contents of the Books like Author Name, Book Title, Total Ratings Recieved and Average Ratings.**"
   ]
  },
  {
   "cell_type": "markdown",
   "metadata": {},
   "source": [
    "The below call will run *Books.py*- The Scrapy extracts contents from the website and Makes a CSV file with the contents - *BookContents.csv*"
   ]
  },
  {
   "cell_type": "code",
   "execution_count": null,
   "metadata": {},
   "outputs": [],
   "source": [
    "from subprocess import call\n",
    "\n",
    "call([\"scrapy\", \"runspider\", \"Books.py\", \"-t\", \"csv\", \"-o\", \"BookContents.csv\"])"
   ]
  },
  {
   "cell_type": "markdown",
   "metadata": {},
   "source": [
    "### Scrapping Authors Data\n",
    "#### Running authors.py\n",
    "**This Python files scrapes the Contents of the Books like Author Name, Book Title, Total Ratings Recieved and Average Ratings.**"
   ]
  },
  {
   "cell_type": "markdown",
   "metadata": {},
   "source": [
    "The below call will run *Authors.py* - The Scrapy extracts contents from the website and Makes a CSV file with the contents - *AuthorContents.csv*"
   ]
  },
  {
   "cell_type": "code",
   "execution_count": null,
   "metadata": {},
   "outputs": [],
   "source": [
    "call([\"scrapy\", \"runspider\", \"authors.py\", \"-t\", \"csv\", \"-o\", \"AuthorContents.csv\"])"
   ]
  },
  {
   "cell_type": "markdown",
   "metadata": {},
   "source": [
    "## Section 2: Merging Relational Data"
   ]
  },
  {
   "cell_type": "markdown",
   "metadata": {},
   "source": [
    "### Importing necessary libraries for Merging the Data Tables"
   ]
  },
  {
   "cell_type": "code",
   "execution_count": null,
   "metadata": {
    "collapsed": true
   },
   "outputs": [],
   "source": [
    "import pandas as pd\n",
    "import numpy as np"
   ]
  },
  {
   "cell_type": "markdown",
   "metadata": {},
   "source": [
    "### Creating Data Frames using Pandas\n",
    "**Creating two Data Frames from _authors.csv_ file and othe for _BookContents.csv file_. This can be done using Pandas, We can read each CSV file as shown below** "
   ]
  },
  {
   "cell_type": "code",
   "execution_count": null,
   "metadata": {},
   "outputs": [],
   "source": [
    "books_df = pd.read_csv(\"BookContents.csv\", keep_default_na=False, na_values=[\"\"])\n",
    "authors_df = pd.read_csv(\"AuthorContents.csv\", keep_default_na=False, na_values=[\"\"])"
   ]
  },
  {
   "cell_type": "markdown",
   "metadata": {},
   "source": [
    "### Details of Books Data Frame(books_df) \n",
    "We can see that *books_df* holds the contents of the BookContents.csv file. It has information of each Book that\n",
    "I have scrapped from https://www.goodreads.com/search?q=authors. For this data frame, I have captured details like Author Name, Genre, Birth Date, Death Date. Below is how the Data Frame looks like: "
   ]
  },
  {
   "cell_type": "code",
   "execution_count": null,
   "metadata": {},
   "outputs": [],
   "source": [
    "print books_df"
   ]
  },
  {
   "cell_type": "markdown",
   "metadata": {},
   "source": [
    "### Details of Authors Data Frame(authors_df)\n",
    "We can see that *authors_df* holds the contents of the authors.csv file. It has information of each author that\n",
    "I have scrapped from https://www.goodreads.com/search?q=authors. I have captured details like Author Name, Genre, Birth Date, Death Date. Below is how the Data Frame looks like:"
   ]
  },
  {
   "cell_type": "code",
   "execution_count": null,
   "metadata": {},
   "outputs": [],
   "source": [
    "print authors_df"
   ]
  },
  {
   "cell_type": "markdown",
   "metadata": {},
   "source": [
    "### Merging the Data Sets\n",
    "After getting the two Data Frames which have relational content(they are connected by the *Author* name). We can observe that Author field is common in both the Data Frames, So I have merged both the dataframes using 'Author'. Now we merge both the data frames using **Pandas merge** method. For this I have used *left join* to merge both the dataframes  "
   ]
  },
  {
   "cell_type": "code",
   "execution_count": null,
   "metadata": {
    "collapsed": true
   },
   "outputs": [],
   "source": [
    "merge_df = pd.merge(left=authors_df, right=books_df, how='left', left_on='Author', right_on='Author')"
   ]
  },
  {
   "cell_type": "markdown",
   "metadata": {},
   "source": [
    "### Displaying the Contents of the Merged DataFrame"
   ]
  },
  {
   "cell_type": "code",
   "execution_count": null,
   "metadata": {},
   "outputs": [],
   "source": [
    "print merge_df"
   ]
  },
  {
   "cell_type": "markdown",
   "metadata": {},
   "source": [
    "## Section 3: Visualization using Bokeh"
   ]
  },
  {
   "cell_type": "markdown",
   "metadata": {},
   "source": [
    "Using Bokeh, I made Bar Graphs, Scatter Plots with lines. I have made these plots for two scenarios:\n",
    "1. **Analysis for Books and Total Ratings**\n",
    "2. **Analysis for Books and Average Ratings**\n",
    "\n",
    "Here Books are labeled as Book 1, Book 2....Book 20 - Which is noting but the Books Data Frame of the merged dataframe. Total Ratings is the sum of all the ratings recieved for the Book. Average Rating is the average ratings of all the ratings recieved, Avg Rating lies between 0-5. "
   ]
  },
  {
   "cell_type": "markdown",
   "metadata": {},
   "source": [
    "### Standard Bokeh Imports"
   ]
  },
  {
   "cell_type": "code",
   "execution_count": null,
   "metadata": {
    "collapsed": true
   },
   "outputs": [],
   "source": [
    "from bokeh.plotting import figure\n",
    "from bokeh.io import show, output_notebook"
   ]
  },
  {
   "cell_type": "markdown",
   "metadata": {},
   "source": [
    "#### Bar Graph for Books vs. Total Ratings"
   ]
  },
  {
   "cell_type": "code",
   "execution_count": null,
   "metadata": {},
   "outputs": [],
   "source": [
    "output_notebook()\n",
    "\n",
    "###################################################################################\n",
    "#   Getting the Relavant Data Frames from merge_df  - Books and Avg Ratings       #  \n",
    "###################################################################################\n",
    "\n",
    "# Getting Books\n",
    "books = [\"Book\"+str(i+1) for i in range(0, len(merge_df['Book'] ))]\n",
    "\n",
    "# Getting Total Ratings\n",
    "book_ratings = merge_df[\"Ratings\"]\n",
    "ratings =  book_ratings.str.replace(\" ratings\", \"\").map(lambda x: x.replace(',', '')).apply(long)\n",
    "\n",
    "# Creating the Plot\n",
    "p = figure(x_range=books, plot_width=1000, plot_height = 500, title=\"Books Vs. Ratings\")\n",
    "p.vbar(x=books, top=ratings, width=0.9)\n",
    "p.xgrid.grid_line_color = None\n",
    "p.y_range.start = 0\n",
    "p.background_fill_color= \"#dddddd\"\n",
    "p.xaxis.axis_label=\"Books\"\n",
    "p.yaxis.axis_label=\"Total Ratings\"\n",
    "\n",
    "# Display the Plot\n",
    "show(p)"
   ]
  },
  {
   "cell_type": "markdown",
   "metadata": {},
   "source": [
    "#### Line Graph for Books vs. Total Ratings"
   ]
  },
  {
   "cell_type": "code",
   "execution_count": null,
   "metadata": {},
   "outputs": [],
   "source": [
    "output_notebook()\n",
    "\n",
    "###################################################################################\n",
    "#   Getting the Relavant Data Frames from merge_df  - Books and Avg Ratings       #  \n",
    "###################################################################################\n",
    "\n",
    "# Getting Books\n",
    "xvalues = range(1, len(merge_df['Book'])+1 )\n",
    "\n",
    "# Getting Total Ratings \n",
    "book_ratings = merge_df[\"Ratings\"]\n",
    "yvalues =  book_ratings.str.replace(\" ratings\", \"\").map(lambda x: x.replace(',', '')).apply(long)\n",
    "\n",
    "# Creating the Plot\n",
    "p = figure(plot_width=1000, plot_height = 500, title=\"Books Vs. Ratings -- Line Plot\")\n",
    "p.outline_line_width = 7\n",
    "p.outline_line_alpha = 0.3\n",
    "p.outline_line_color = \"navy\"\n",
    "p.background_fill_color= \"#dddddd\"\n",
    "p.xaxis.axis_label=\"Books\"\n",
    "p.yaxis.axis_label=\"Total Ratings\"\n",
    "p.line(xvalues, yvalues, line_width=2)\n",
    "p.circle(xvalues, yvalues, fill_color=\"black\", size=10)\n",
    "\n",
    "# Display the Plot\n",
    "show(p)\n"
   ]
  },
  {
   "cell_type": "markdown",
   "metadata": {},
   "source": [
    "#### Bar Graph for Books vs. Avg Ratings"
   ]
  },
  {
   "cell_type": "code",
   "execution_count": null,
   "metadata": {},
   "outputs": [],
   "source": [
    "output_notebook()\n",
    "\n",
    "###################################################################################\n",
    "#   Getting the Relavant Data Frames from merge_df  - Books and Avg Ratings       #  \n",
    "###################################################################################\n",
    "# Gettings Books\n",
    "books = [\"Book\"+str(i+1) for i in range(0, len(merge_df['Book'] ))]\n",
    "\n",
    "# Getting Avg Ratings\n",
    "avg_book_ratings = merge_df[\"Avg Rating\"]\n",
    "avg_ratings =  avg_book_ratings.str.replace(\" avg rating\", \"\").astype(float)\n",
    "\n",
    "# Creating the Plot\n",
    "p = figure(x_range=books, plot_width = 750, plot_height = 500, title=\"Books Vs. Avg Ratings\")\n",
    "p.background_fill_color= \"#dddddd\"\n",
    "p.xaxis.axis_label=\"Books\"\n",
    "p.yaxis.axis_label=\"Avg Ratings\"\n",
    "p.vbar(x=books, top=avg_ratings, width=0.9)\n",
    "p.xgrid.grid_line_color = None\n",
    "p.y_range.start = 0\n",
    "\n",
    "# Display the Plot\n",
    "show(p)\n"
   ]
  },
  {
   "cell_type": "markdown",
   "metadata": {},
   "source": [
    "#### Line Graph for Books vs. Avg Ratings"
   ]
  },
  {
   "cell_type": "code",
   "execution_count": null,
   "metadata": {},
   "outputs": [],
   "source": [
    "output_notebook()\n",
    "\n",
    "###################################################################################\n",
    "#   Getting the Relavant Data Frames from merge_df  - Books and Avg Ratings       #  \n",
    "###################################################################################\n",
    "# Indexes for each book number\n",
    "xvalues = range(1, len(merge_df['Book'])+1 ) \n",
    "\n",
    "# Avg Rating for the book\n",
    "avg_book_ratings = merge_df[\"Avg Rating\"]\n",
    "yvalues =  avg_book_ratings.str.replace(\" avg rating\", \"\").astype(float) \n",
    "\n",
    "# Creating the Plot\n",
    "p = figure(plot_width=600, plot_height=600, title=\"Books vs. Avg Rating -- Line Plot\")\n",
    "p.outline_line_width = 7\n",
    "p.outline_line_alpha = 0.3\n",
    "p.outline_line_color = \"navy\"\n",
    "p.background_fill_color= \"#dddddd\"\n",
    "p.xaxis.axis_label=\"Books\"\n",
    "p.yaxis.axis_label=\"Avg Ratings\"\n",
    "p.line(xvalues, yvalues, line_width=2)\n",
    "p.circle(xvalues, yvalues, fill_color='white', size=10)\n",
    "\n",
    "# Displaying the Plot \n",
    "show(p)"
   ]
  }
 ],
 "metadata": {
  "kernelspec": {
   "display_name": "Python 2",
   "language": "python",
   "name": "python2"
  },
  "language_info": {
   "codemirror_mode": {
    "name": "ipython",
    "version": 2
   },
   "file_extension": ".py",
   "mimetype": "text/x-python",
   "name": "python",
   "nbconvert_exporter": "python",
   "pygments_lexer": "ipython2",
   "version": "2.7.14"
  }
 },
 "nbformat": 4,
 "nbformat_minor": 2
}
